{
 "cells": [
  {
   "cell_type": "code",
   "outputs": [],
   "source": [
    "import numpy as np\n",
    "import re\n",
    "from MyBOW import MyBOW"
   ],
   "metadata": {
    "collapsed": false,
    "ExecuteTime": {
     "end_time": "2024-01-21T11:46:17.343448900Z",
     "start_time": "2024-01-21T11:46:17.268939400Z"
    }
   },
   "id": "568252dfb6b3ddd3",
   "execution_count": 1
  },
  {
   "cell_type": "code",
   "outputs": [],
   "source": [
    "with open(\"../data/sample_text.txt\", \"r\") as file:\n",
    "    text = file.read()"
   ],
   "metadata": {
    "collapsed": true,
    "ExecuteTime": {
     "end_time": "2024-01-21T11:46:17.360010100Z",
     "start_time": "2024-01-21T11:46:17.344956500Z"
    }
   },
   "id": "initial_id",
   "execution_count": 2
  },
  {
   "cell_type": "code",
   "outputs": [],
   "source": [
    "def text_preprocessing(text):\n",
    "  # Loại bỏ kí tự đặc biệt thay thế bằng khoảng trắng\n",
    "  text = re.sub(r'[^\\w\\s]', ' ', text)\n",
    "\n",
    "  # Xóa khoảng trắng đầu câu và cuối câu\n",
    "  text = re.sub(r'^\\s+|\\s+$', '', text)\n",
    "\n",
    "  # Thay thế tất cả các khoảng trắng liên tiếp bằng một khoảng trắng duy nhất.\n",
    "  text = re.sub(r'\\s+', ' ', text, flags=re.I)\n",
    "  # Chuyển đổi tất cả các ký tự trong câu thành chữ thường.\n",
    "  text = text.lower()\n",
    "\n",
    "  return text"
   ],
   "metadata": {
    "collapsed": false,
    "ExecuteTime": {
     "end_time": "2024-01-21T11:46:17.378063200Z",
     "start_time": "2024-01-21T11:46:17.361003Z"
    }
   },
   "id": "9740bd4c0cf27349",
   "execution_count": 3
  },
  {
   "cell_type": "code",
   "outputs": [],
   "source": [
    "text_1 = text.split()"
   ],
   "metadata": {
    "collapsed": false,
    "ExecuteTime": {
     "end_time": "2024-01-21T11:46:17.390170600Z",
     "start_time": "2024-01-21T11:46:17.377065500Z"
    }
   },
   "id": "497afa693e5e40a9",
   "execution_count": 4
  },
  {
   "cell_type": "code",
   "outputs": [
    {
     "name": "stdout",
     "output_type": "stream",
     "text": [
      "['(1,400', '(133,000', '1981.', '2,300', '2,900', '344,400', '900', 'Australia.', 'Authority.', 'Barrier', 'Coral', 'Great', 'Heritage', 'It', 'Marine', 'Park', 'Queensland,', 'Reef', 'Sea,', 'Site', 'The', 'This', 'World', 'a', 'an', 'and', 'approximately', 'area', 'as', 'be', 'biggest', 'billions', 'built', 'by', 'can', 'coast', 'composed', 'coral', 'destination', 'diversity', 'for', 'from', 'in', 'individual', 'is', 'islands', 'kilometres', 'known', 'largest', 'life', 'living', 'located', 'made', 'managed', 'mi)', 'mi).', 'of', 'off', 'organisms,', 'organisms.', 'outer', 'over', 'polyps.', 'popular', 'reef', 'reefs', 'seen', 'selected', 'single', 'space', 'sq', 'square', 'stretching', 'structure', 'supports', 'system', 'the', 'tiny', 'tourist', 'was', 'wide', \"world's\"]\n"
     ]
    }
   ],
   "source": [
    "bow = MyBOW()\n",
    "vector = bow.fit_transfer(text_1)\n",
    "print(bow.vocab)"
   ],
   "metadata": {
    "collapsed": false,
    "ExecuteTime": {
     "end_time": "2024-01-21T11:46:17.425936100Z",
     "start_time": "2024-01-21T11:46:17.392160900Z"
    }
   },
   "id": "6e3cc08025dfa4b3",
   "execution_count": 5
  },
  {
   "cell_type": "code",
   "outputs": [],
   "source": [
    "from sklearn.feature_extraction.text import CountVectorizer\n",
    "\n",
    "vectorizer = CountVectorizer()\n",
    "X = vectorizer.fit_transform(text_1)"
   ],
   "metadata": {
    "collapsed": false,
    "ExecuteTime": {
     "end_time": "2024-01-21T11:46:17.799155700Z",
     "start_time": "2024-01-21T11:46:17.406916400Z"
    }
   },
   "id": "1abe7868e3ae0512",
   "execution_count": 6
  },
  {
   "cell_type": "code",
   "outputs": [
    {
     "data": {
      "text/plain": "array(['000', '133', '1981', '300', '344', '400', '900', 'an', 'and',\n       'approximately', 'area', 'as', 'australia', 'authority', 'barrier',\n       'be', 'biggest', 'billions', 'built', 'by', 'can', 'coast',\n       'composed', 'coral', 'destination', 'diversity', 'for', 'from',\n       'great', 'heritage', 'in', 'individual', 'is', 'islands', 'it',\n       'kilometres', 'known', 'largest', 'life', 'living', 'located',\n       'made', 'managed', 'marine', 'mi', 'of', 'off', 'organisms',\n       'outer', 'over', 'park', 'polyps', 'popular', 'queensland', 'reef',\n       'reefs', 'sea', 'seen', 'selected', 'single', 'site', 'space',\n       'sq', 'square', 'stretching', 'structure', 'supports', 'system',\n       'the', 'this', 'tiny', 'tourist', 'was', 'wide', 'world'],\n      dtype=object)"
     },
     "execution_count": 7,
     "metadata": {},
     "output_type": "execute_result"
    }
   ],
   "source": [
    "vectorizer.get_feature_names_out()"
   ],
   "metadata": {
    "collapsed": false,
    "ExecuteTime": {
     "end_time": "2024-01-21T11:46:17.817189800Z",
     "start_time": "2024-01-21T11:46:17.802147600Z"
    }
   },
   "id": "c4849a59b798f2d8",
   "execution_count": 7
  },
  {
   "cell_type": "markdown",
   "source": [
    "**Sklearn có preprocessing + sort vocabulary**"
   ],
   "metadata": {
    "collapsed": false
   },
   "id": "a1b6591324069720"
  },
  {
   "cell_type": "code",
   "outputs": [
    {
     "name": "stdout",
     "output_type": "stream",
     "text": [
      "['000', '1', '133', '1981', '2', '300', '344', '400', '900', 'a', 'an', 'and', 'approximately', 'area', 'as', 'australia', 'authority', 'barrier', 'be', 'biggest', 'billions', 'built', 'by', 'can', 'coast', 'composed', 'coral', 'destination', 'diversity', 'for', 'from', 'great', 'heritage', 'in', 'individual', 'is', 'islands', 'it', 'kilometres', 'known', 'largest', 'life', 'living', 'located', 'made', 'managed', 'marine', 'mi', 'of', 'off', 'organisms', 'outer', 'over', 'park', 'polyps', 'popular', 'queensland', 'reef', 'reefs', 's', 'sea', 'seen', 'selected', 'single', 'site', 'space', 'sq', 'square', 'stretching', 'structure', 'supports', 'system', 'the', 'this', 'tiny', 'tourist', 'was', 'wide', 'world']\n"
     ]
    }
   ],
   "source": [
    "bow_2 = MyBOW()\n",
    "text_2 = text_preprocessing(text)\n",
    "text_2 = text_2.split()\n",
    "vector_2 = bow_2.fit_transfer(text_2)\n",
    "print(bow_2.vocab)"
   ],
   "metadata": {
    "collapsed": false,
    "ExecuteTime": {
     "end_time": "2024-01-21T11:46:17.849977300Z",
     "start_time": "2024-01-21T11:46:17.812641100Z"
    }
   },
   "id": "113d0db55107dbab",
   "execution_count": 8
  },
  {
   "cell_type": "markdown",
   "source": [
    "**Sklearn bỏ các từ có 1 chữ cái**"
   ],
   "metadata": {
    "collapsed": false
   },
   "id": "237c2db730384c36"
  }
 ],
 "metadata": {
  "kernelspec": {
   "display_name": "Python 3",
   "language": "python",
   "name": "python3"
  },
  "language_info": {
   "codemirror_mode": {
    "name": "ipython",
    "version": 2
   },
   "file_extension": ".py",
   "mimetype": "text/x-python",
   "name": "python",
   "nbconvert_exporter": "python",
   "pygments_lexer": "ipython2",
   "version": "2.7.6"
  }
 },
 "nbformat": 4,
 "nbformat_minor": 5
}
