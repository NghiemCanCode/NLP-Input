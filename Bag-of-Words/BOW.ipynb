{
 "cells": [
  {
   "cell_type": "code",
   "outputs": [],
   "source": [
    "import numpy as np\n",
    "import re"
   ],
   "metadata": {
    "collapsed": false,
    "ExecuteTime": {
     "end_time": "2024-01-19T04:22:52.301385200Z",
     "start_time": "2024-01-19T04:22:52.290427Z"
    }
   },
   "id": "568252dfb6b3ddd3",
   "execution_count": 103
  },
  {
   "cell_type": "code",
   "outputs": [],
   "source": [
    "with open(\"../data/sample_text.txt\", \"r\") as file:\n",
    "    text = file.read()"
   ],
   "metadata": {
    "collapsed": true,
    "ExecuteTime": {
     "end_time": "2024-01-19T04:22:52.325774700Z",
     "start_time": "2024-01-19T04:22:52.306791400Z"
    }
   },
   "id": "initial_id",
   "execution_count": 104
  },
  {
   "cell_type": "code",
   "outputs": [],
   "source": [
    "def text_preprocessing(text):\n",
    "  # Loại bỏ kí tự đặc biệt thay thế bằng khoảng trắng\n",
    "  text = re.sub(r'[^\\w\\s]', ' ', text)\n",
    "\n",
    "  # Xóa khoảng trắng đầu câu và cuối câu\n",
    "  text = re.sub(r'^\\s+|\\s+$', '', text)\n",
    "\n",
    "  # Thay thế tất cả các khoảng trắng liên tiếp bằng một khoảng trắng duy nhất.\n",
    "  text = re.sub(r'\\s+', ' ', text, flags=re.I)\n",
    "  # Chuyển đổi tất cả các ký tự trong câu thành chữ thường.\n",
    "  text = text.lower()\n",
    "\n",
    "  return text"
   ],
   "metadata": {
    "collapsed": false,
    "ExecuteTime": {
     "end_time": "2024-01-19T04:22:52.338440300Z",
     "start_time": "2024-01-19T04:22:52.316494Z"
    }
   },
   "id": "9740bd4c0cf27349",
   "execution_count": 105
  },
  {
   "cell_type": "code",
   "outputs": [],
   "source": [
    "text = text_preprocessing(text)\n",
    "text = text.split()"
   ],
   "metadata": {
    "collapsed": false,
    "ExecuteTime": {
     "end_time": "2024-01-19T04:22:52.363031300Z",
     "start_time": "2024-01-19T04:22:52.333458200Z"
    }
   },
   "id": "23bb5fb0c36a89cd",
   "execution_count": 106
  },
  {
   "cell_type": "code",
   "outputs": [
    {
     "name": "stdout",
     "output_type": "stream",
     "text": [
      "['the', 'great', 'barrier', 'reef', 'is']\n"
     ]
    }
   ],
   "source": [
    "print(text[:5])"
   ],
   "metadata": {
    "collapsed": false,
    "ExecuteTime": {
     "end_time": "2024-01-19T04:22:52.373279600Z",
     "start_time": "2024-01-19T04:22:52.351799500Z"
    }
   },
   "id": "9f4958217fa9b1fb",
   "execution_count": 107
  },
  {
   "cell_type": "code",
   "outputs": [],
   "source": [
    "def to_bag(corpus):\n",
    "  bag_set = set(corpus)\n",
    "  return bag_tuple"
   ],
   "metadata": {
    "collapsed": false,
    "ExecuteTime": {
     "end_time": "2024-01-19T04:22:52.407429200Z",
     "start_time": "2024-01-19T04:22:52.368747200Z"
    }
   },
   "id": "dc72a3e7a451390c",
   "execution_count": 108
  },
  {
   "cell_type": "code",
   "outputs": [],
   "source": [
    "def words_to_bag(corpus, bag):\n",
    "  bag_arr = list(bag)\n",
    "  words_to_bag = np.zeros(len(bag_arr))\n",
    "  \n",
    "  text = text_preprocessing(corpus)\n",
    "  text = text.split()\n",
    "  \n",
    "  for word in text:\n",
    "    if word in bag_arr:\n",
    "      index = bag_arr.index(word)\n",
    "      words_to_bag[index] += 1\n",
    "    else:\n",
    "      return (\"words_not_in_corpus\")\n",
    "      \n",
    "  return words_to_bag"
   ],
   "metadata": {
    "collapsed": false,
    "ExecuteTime": {
     "end_time": "2024-01-19T04:22:52.408601300Z",
     "start_time": "2024-01-19T04:22:52.382640600Z"
    }
   },
   "id": "a0d19ade1f6359fc",
   "execution_count": 109
  },
  {
   "cell_type": "code",
   "outputs": [
    {
     "data": {
      "text/plain": "array([1., 1., 1., 0., 0.])"
     },
     "execution_count": 110,
     "metadata": {},
     "output_type": "execute_result"
    }
   ],
   "source": [
    "test = ['test', 'thoi', 'lam', 'gi', 'cang']\n",
    "\n",
    "words_to_bag(\"test thoi lam\", test)"
   ],
   "metadata": {
    "collapsed": false,
    "ExecuteTime": {
     "end_time": "2024-01-19T04:22:52.438252800Z",
     "start_time": "2024-01-19T04:22:52.397257300Z"
    }
   },
   "id": "716a9dcf83820769",
   "execution_count": 110
  },
  {
   "cell_type": "code",
   "outputs": [
    {
     "data": {
      "text/plain": "array([0., 0., 0., 4., 5.])"
     },
     "execution_count": 111,
     "metadata": {},
     "output_type": "execute_result"
    }
   ],
   "source": [
    "words_to_bag(\"gi cang gi cang gi cang gi cang cang\", test)"
   ],
   "metadata": {
    "collapsed": false,
    "ExecuteTime": {
     "end_time": "2024-01-19T04:22:52.447817200Z",
     "start_time": "2024-01-19T04:22:52.415078600Z"
    }
   },
   "id": "81aac31560ee2bd2",
   "execution_count": 111
  },
  {
   "cell_type": "code",
   "outputs": [
    {
     "name": "stdout",
     "output_type": "stream",
     "text": [
      "[[5 4 0 0 0]]\n"
     ]
    }
   ],
   "source": [
    "from sklearn.feature_extraction.text import CountVectorizer\n",
    "\n",
    "document = [\"test thoi lam gi cang\"]\n",
    "vectorizer = CountVectorizer()\n",
    "X = vectorizer.fit_transform(document)\n",
    "\n",
    "vector = vectorizer.transform([\"gi cang gi cang gi cang gi cang cang\"])\n",
    "print(vector.toarray())"
   ],
   "metadata": {
    "collapsed": false,
    "ExecuteTime": {
     "end_time": "2024-01-19T04:22:52.479988800Z",
     "start_time": "2024-01-19T04:22:52.428946900Z"
    }
   },
   "id": "81c6a72651df44f8",
   "execution_count": 112
  }
 ],
 "metadata": {
  "kernelspec": {
   "display_name": "Python 3",
   "language": "python",
   "name": "python3"
  },
  "language_info": {
   "codemirror_mode": {
    "name": "ipython",
    "version": 2
   },
   "file_extension": ".py",
   "mimetype": "text/x-python",
   "name": "python",
   "nbconvert_exporter": "python",
   "pygments_lexer": "ipython2",
   "version": "2.7.6"
  }
 },
 "nbformat": 4,
 "nbformat_minor": 5
}
