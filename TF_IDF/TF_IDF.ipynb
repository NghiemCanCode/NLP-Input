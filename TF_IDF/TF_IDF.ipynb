{
 "cells": [
  {
   "cell_type": "markdown",
   "source": [
    "Ví dụ 4.2.2. trang 77, sách Mạng nơ ron nhân tạo:"
   ],
   "metadata": {
    "collapsed": false
   },
   "id": "d9b267def2e7d3c0"
  },
  {
   "cell_type": "code",
   "outputs": [],
   "source": [
    "corpus =[\"hom_qua toi hoc lap_trinh\", \"hom_nay toi cung hoc lap_trinh\", \"ngay_mai toi khong hoc lap_trinh\"]"
   ],
   "metadata": {
    "collapsed": false,
    "ExecuteTime": {
     "end_time": "2024-01-21T13:57:06.838897500Z",
     "start_time": "2024-01-21T13:57:06.809344900Z"
    }
   },
   "id": "417596f6e52c99f0",
   "execution_count": 1
  },
  {
   "cell_type": "code",
   "outputs": [
    {
     "data": {
      "text/plain": "array(['cung', 'hoc', 'hom_nay', 'hom_qua', 'khong', 'lap_trinh',\n       'ngay_mai', 'toi'], dtype=object)"
     },
     "execution_count": 2,
     "metadata": {},
     "output_type": "execute_result"
    }
   ],
   "source": [
    "from sklearn.feature_extraction.text import TfidfVectorizer\n",
    "\n",
    "vectorizer = TfidfVectorizer()\n",
    "X = vectorizer.fit_transform(corpus)\n",
    "vectorizer.get_feature_names_out()"
   ],
   "metadata": {
    "collapsed": false,
    "ExecuteTime": {
     "end_time": "2024-01-21T13:57:07.675986Z",
     "start_time": "2024-01-21T13:57:06.828383300Z"
    }
   },
   "id": "f2b6e9036213e2e9",
   "execution_count": 2
  },
  {
   "cell_type": "code",
   "outputs": [
    {
     "name": "stdout",
     "output_type": "stream",
     "text": [
      "dict_keys(['cung', 'hoc', 'hom_nay', 'hom_qua', 'khong', 'lap_trinh', 'ngay_mai', 'toi'])\n"
     ]
    }
   ],
   "source": [
    "from MyTF_IDF import MyTF_IDF\n",
    "vector = MyTF_IDF()\n",
    "vect = vector.fit_transform(corpus)\n",
    "print(vector.IDF.keys())"
   ],
   "metadata": {
    "collapsed": false,
    "ExecuteTime": {
     "end_time": "2024-01-21T13:57:07.727617700Z",
     "start_time": "2024-01-21T13:57:07.675986Z"
    }
   },
   "id": "ef657211d4ddb3b8",
   "execution_count": 3
  },
  {
   "cell_type": "code",
   "outputs": [
    {
     "name": "stdout",
     "output_type": "stream",
     "text": [
      "(3, 8)\n",
      "(3, 8)\n"
     ]
    }
   ],
   "source": [
    "print(vect.shape)\n",
    "print(X.toarray().shape)"
   ],
   "metadata": {
    "collapsed": false,
    "ExecuteTime": {
     "end_time": "2024-01-21T13:57:07.729621900Z",
     "start_time": "2024-01-21T13:57:07.693526400Z"
    }
   },
   "id": "255c89b5d6a11325",
   "execution_count": 4
  },
  {
   "cell_type": "code",
   "outputs": [
    {
     "name": "stdout",
     "output_type": "stream",
     "text": [
      "[[0.         0.         0.         0.47712125 0.         0.\n",
      "  0.         0.        ]\n",
      " [0.47712125 0.         0.47712125 0.         0.         0.\n",
      "  0.         0.        ]\n",
      " [0.         0.         0.         0.         0.47712125 0.\n",
      "  0.47712125 0.        ]]\n"
     ]
    }
   ],
   "source": [
    "print(vect)"
   ],
   "metadata": {
    "collapsed": false,
    "ExecuteTime": {
     "end_time": "2024-01-21T13:57:07.798233800Z",
     "start_time": "2024-01-21T13:57:07.708585500Z"
    }
   },
   "id": "caba42de724c608e",
   "execution_count": 5
  },
  {
   "cell_type": "code",
   "outputs": [
    {
     "name": "stdout",
     "output_type": "stream",
     "text": [
      "[[0.         0.41285857 0.         0.69903033 0.         0.41285857\n",
      "  0.         0.41285857]\n",
      " [0.57292883 0.338381   0.57292883 0.         0.         0.338381\n",
      "  0.         0.338381  ]\n",
      " [0.         0.338381   0.         0.         0.57292883 0.338381\n",
      "  0.57292883 0.338381  ]]\n"
     ]
    }
   ],
   "source": [
    "print(X.toarray())"
   ],
   "metadata": {
    "collapsed": false,
    "ExecuteTime": {
     "end_time": "2024-01-21T13:57:07.800234Z",
     "start_time": "2024-01-21T13:57:07.725610800Z"
    }
   },
   "id": "7d6bda8cf677816e",
   "execution_count": 6
  },
  {
   "cell_type": "markdown",
   "source": [
    "Kết quả thuật toán tự code đúng theo sách"
   ],
   "metadata": {
    "collapsed": false
   },
   "id": "fc2561840087018b"
  }
 ],
 "metadata": {
  "kernelspec": {
   "display_name": "Python 3",
   "language": "python",
   "name": "python3"
  },
  "language_info": {
   "codemirror_mode": {
    "name": "ipython",
    "version": 2
   },
   "file_extension": ".py",
   "mimetype": "text/x-python",
   "name": "python",
   "nbconvert_exporter": "python",
   "pygments_lexer": "ipython2",
   "version": "2.7.6"
  }
 },
 "nbformat": 4,
 "nbformat_minor": 5
}
