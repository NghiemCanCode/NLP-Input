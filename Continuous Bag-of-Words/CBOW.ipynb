{
 "cells": [
  {
   "cell_type": "code",
   "execution_count": 1,
   "id": "initial_id",
   "metadata": {
    "collapsed": true,
    "ExecuteTime": {
     "end_time": "2024-01-19T02:55:47.030637500Z",
     "start_time": "2024-01-19T02:55:42.522054300Z"
    }
   },
   "outputs": [
    {
     "data": {
      "text/plain": "<torch._C.Generator at 0x1eddcc1b7b0>"
     },
     "execution_count": 1,
     "metadata": {},
     "output_type": "execute_result"
    }
   ],
   "source": [
    "import torch\n",
    "import torch.nn as nn\n",
    "import torch.nn.functional as F\n",
    "import torch.optim as optim\n",
    "\n",
    "torch.manual_seed(1)"
   ]
  },
  {
   "cell_type": "code",
   "outputs": [
    {
     "data": {
      "text/plain": "'2.1.2+cu121'"
     },
     "execution_count": 2,
     "metadata": {},
     "output_type": "execute_result"
    }
   ],
   "source": [
    "torch.__version__"
   ],
   "metadata": {
    "collapsed": false,
    "ExecuteTime": {
     "end_time": "2024-01-19T02:55:47.076853800Z",
     "start_time": "2024-01-19T02:55:47.026918900Z"
    }
   },
   "id": "93052a9c1d0fa8fd",
   "execution_count": 2
  },
  {
   "cell_type": "code",
   "outputs": [],
   "source": [
    "with open(\"../data/sample_text.txt\", \"r\") as file:\n",
    "    raw_text = file.read().split()"
   ],
   "metadata": {
    "collapsed": false,
    "ExecuteTime": {
     "end_time": "2024-01-19T02:55:47.098497700Z",
     "start_time": "2024-01-19T02:55:47.055195Z"
    }
   },
   "id": "15430f47806f4bc1",
   "execution_count": 3
  },
  {
   "cell_type": "code",
   "outputs": [
    {
     "name": "stdout",
     "output_type": "stream",
     "text": [
      "[(['Great', 'The', 'Reef', 'is'], 'Barrier'), (['Barrier', 'Great', 'is', 'the'], 'Reef'), (['Reef', 'Barrier', 'the', \"world's\"], 'is'), (['is', 'Reef', \"world's\", 'largest'], 'the'), (['the', 'is', 'largest', 'coral'], \"world's\")]\n"
     ]
    }
   ],
   "source": [
    "CONTEXT_SIZE = 2 # 2 từ bên trái, 2 từ bên phải\n",
    "\n",
    "vocab = set(raw_text)\n",
    "vocab_size = len(vocab)\n",
    "\n",
    "word_to_ix = {word: i for i, word in enumerate(vocab)}\n",
    "data = []\n",
    "\n",
    "# mất các chữ đầu và cuối\n",
    "for i in range(CONTEXT_SIZE, len(raw_text) - CONTEXT_SIZE):\n",
    "    context = ([raw_text[i - j - 1] for j in range(CONTEXT_SIZE)] +\n",
    "               [raw_text[i + j + 1] for j in range(CONTEXT_SIZE)])\n",
    "    \n",
    "    target = raw_text[i]\n",
    "    data.append((context, target))\n",
    "\n",
    "print(data[:5])\n"
   ],
   "metadata": {
    "collapsed": false,
    "ExecuteTime": {
     "end_time": "2024-01-19T02:55:47.152450400Z",
     "start_time": "2024-01-19T02:55:47.074910300Z"
    }
   },
   "id": "6d2d5e6b16ef85d6",
   "execution_count": 4
  },
  {
   "cell_type": "code",
   "outputs": [],
   "source": [
    "class CBOWModeler(nn.Module):\n",
    "    def __init__(self, vocab_size, embedding_dim, context_size):\n",
    "        super(CBOWModeler, self).__init__()\n",
    "        self.embeddings = nn.Embedding(vocab_size, embedding_dim)\n",
    "        self.linear1 = nn.Linear(context_size*embedding_dim, 128)\n",
    "        self.linear2 = nn.Linear(128, vocab_size)\n",
    "        \n",
    "    def forward(self, x):\n",
    "        embeds = self.embeddings(x).view(1,-1)\n",
    "        output = self.linear1(embeds)\n",
    "        output = F.relu(output)\n",
    "        output = self.linear2(output)\n",
    "        log_probs = F.log_softmax(output, dim=1)\n",
    "        return log_probs"
   ],
   "metadata": {
    "collapsed": false,
    "ExecuteTime": {
     "end_time": "2024-01-19T02:55:47.153452600Z",
     "start_time": "2024-01-19T02:55:47.088915600Z"
    }
   },
   "id": "e81370d5ad4357c",
   "execution_count": 5
  },
  {
   "cell_type": "code",
   "outputs": [
    {
     "data": {
      "text/plain": "tensor([ 1, 18, 41,  7])"
     },
     "execution_count": 6,
     "metadata": {},
     "output_type": "execute_result"
    }
   ],
   "source": [
    "def make_context_vector(context, word_to_ix):\n",
    "    idxs = [word_to_ix[w] for w in context]\n",
    "    return torch.tensor(idxs, dtype=torch.long)\n",
    "\n",
    "\n",
    "make_context_vector(data[0][0], word_to_ix)"
   ],
   "metadata": {
    "collapsed": false,
    "ExecuteTime": {
     "end_time": "2024-01-19T02:55:47.156600100Z",
     "start_time": "2024-01-19T02:55:47.099609300Z"
    }
   },
   "id": "8e471e14224e1c77",
   "execution_count": 6
  }
 ],
 "metadata": {
  "kernelspec": {
   "display_name": "Python 3",
   "language": "python",
   "name": "python3"
  },
  "language_info": {
   "codemirror_mode": {
    "name": "ipython",
    "version": 2
   },
   "file_extension": ".py",
   "mimetype": "text/x-python",
   "name": "python",
   "nbconvert_exporter": "python",
   "pygments_lexer": "ipython2",
   "version": "2.7.6"
  }
 },
 "nbformat": 4,
 "nbformat_minor": 5
}
